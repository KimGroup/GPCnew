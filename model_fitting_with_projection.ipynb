{
 "cells": [
  {
   "cell_type": "code",
   "execution_count": 32,
   "metadata": {},
   "outputs": [],
   "source": [
    "#Kernel which can allow non-diagonal entries later\n",
    "import math\n",
    "import torch\n",
    "import gpytorch\n",
    "import xlwt\n",
    "\n",
    "import torch\n",
    "\n",
    "from gpytorch.kernels import RBFKernel\n",
    "import xlrd\n",
    "import numpy as np\n",
    "import pandas as pd\n",
    "\n",
    "from sklearn.model_selection import train_test_split\n",
    "from sklearn.metrics import accuracy_score\n",
    "\n",
    "from gpytorch.distributions import MultivariateNormal\n",
    "from gpytorch.likelihoods import GaussianLikelihood\n",
    "from gpytorch.likelihoods import DirichletClassificationLikelihood\n",
    "from gpytorch.kernels import RBFKernel\n",
    "from gpytorch.means import ConstantMean\n",
    "from gpytorch.mlls import ExactMarginalLogLikelihood\n",
    "from gpytorch.models import ExactGP\n"
   ]
  },
  {
   "cell_type": "markdown",
   "metadata": {},
   "source": [
    "This is a helper function to load in the input data. "
   ]
  },
  {
   "cell_type": "code",
   "execution_count": 33,
   "metadata": {},
   "outputs": [
    {
     "name": "stdout",
     "output_type": "stream",
     "text": [
      "Automatic pdb calling has been turned OFF\n"
     ]
    }
   ],
   "source": [
    "%pdb"
   ]
  },
  {
   "cell_type": "code",
   "execution_count": 34,
   "metadata": {},
   "outputs": [],
   "source": [
    "def generate_data(file_loc=r\"C:\\Users\\ROG\\Desktop\\test1\\test.xls\"):\n",
    "    #X data generation\n",
    "    excel = xlrd.open_workbook(file_loc)\n",
    "\n",
    "    all_sheet = excel.sheets()\n",
    "\n",
    "    database = all_sheet[0]\n",
    "    result=database.col_values(0)[3:]\n",
    "    matname=database.col_values(1)[3:]\n",
    "    dsq=database.col_values(2)[3:]\n",
    "    dv=database.col_values(3)[3:]\n",
    "    adata=database.col_values(10)[3:]\n",
    "    cdata=database.col_values(11)[3:]\n",
    "\n",
    "    ele0=['H','He','Li','Be','B','C','N','O','F','Ne','Na','Mg','Al','Si','P','S','Cl','Ar','K','Ca','Sc','Ti','V','Cr','Mn','Fe',\n",
    "         'Co','Ni','Cu','Zn','Ga','Ge','As','Se','Br','Kr','Rb','Sr','Y','Zr','Nb','Mo','Tc','Ru','Rh','Pd','Ag','Cd','In','Sn','Sb',\n",
    "         'Te','I','Xe','Cs','Ba','La','Ce','Pr','Nd','Pm','Sm','Eu','Gd','Tb','Dy','Ho','Er','Tm','Yb','Lu','Hf','Ta','W','Re','Os',\n",
    "         'Ir','Pt','Au','Hg','Tl','Pb','Bi','Po','At','Rn','Fr','Ra','Ac','Th','Pa','U','Np','Pu','Am','Cm','Bk','Cf','Es','Fm','Md',\n",
    "         'No','Lr']\n",
    "    elene=[2.20,0,0.98,1.57,2.04,2.55,3.04,3.44,3.98,0,0.93,1.31,1.61,1.90,2.19,2.58,3.16,0,0.82,1.00,1.36,1.54,1.63,1.66,\n",
    "          1.55,1.83,1.88,1.91,1.90,1.65,1.81,2.01,2.18,2.55,2.96,3.00,0.82,0.95,1.22,1.33,1.6,2.16,1.9,2.2,2.28,2.2,1.93,1.69,1.78,\n",
    "          1.96,2.05,2.1,2.66,2.60,0.79,0.89,1.1,1.12,1.13,1.14,1.13,1.17,1.2,1.2,1.1,1.22,1.23,1.24,1.25,1.1,1.27,1.3,1.5,2.36,1.9,\n",
    "          2.2,2.20,2.28,2.54,2.0,1.62,1.87,2.02,2.0,2.2,2.2,0.795,0.9,1.1,1.3,1.5,1.38,1.36,1.28,1.13,1.28,1.3,1.3,1.3,1.3,1.3,1.3,1.3]\n",
    "    elena=[72.769,-48.2,59.633,-48.2,26.989,121.776,-6.8,140.976,328.165,-116.19,52.867,-40.19,41.763,134.068,72.037,200.410,348.575,\n",
    "          -96.2,48.383,2.37,18.2,7.289,50.911,65.21,-50.2,14.785,63.898,111.65,119.235,-58.2,29.061,118.935,77.65,194.959,324.537,-96.2,\n",
    "          46.884,5.023,29.6,41.807,88.517,72.1,53.2,100.96,110.27,54.24,125.862,-68.2,37.043,107.298,101.059,190.161,295.153,-77.2,45.505,\n",
    "          13.954,53.795,55.2,10.539,9.406,12.45,15.63,11.2,13.22,12.670,33.96,32.61,30.10,99.3,-1.93,23.04,17.18,31.2,78.76,5.8273,103.99,\n",
    "          150.94,205.041,222.747,-48.2,36.414,34.4183,90.924,136.7,223.12,-68.2,46.89,9.6485,33.77,112.72,53.03,50.94,45.85,-48.33,9.93,\n",
    "          27.17,-165.24,-97.31,-28.6,33.96,93.91,-223.22,-30.04]\n",
    "    rcov=[31.5,28,128.7,96.3,84.3,76.1,71.1,66.2,57.3,58,166.9,141.7,121.4,111.2,107.3,105.3,102.4,106.1,203.1,176.1,170.7,160.8,153.8,\n",
    "         139.5,139.5,132.3,126.3,124.4,132.4,122.4,122.3,120.4,119.4,120.4,120.3,116.4,220.9,195.1,190.7,175.7,164.6,154.5,147.7,146.7,\n",
    "         142.7,139.6,145.5,144.9,142.5,139.4,139.5,138.4,139.3,140.9,244.1,215.1,207.8,204.9,203.7,201.6,199,198.8,198.6,196.6,194.5,\n",
    "         192.7,192.7,189.6,190.1,187.8,175.1,187.8,170.8,162.7,151.7,144.4,141.6,136.5,136.6,132.5,145.7,146.5,148.4,140.4,150,150,260,\n",
    "         221.2,215,206.6,200,196.7,190.1,187.1,180.6,169.3,166,168,165,167,173,176,161]\n",
    "    eleipabs=[13.60,24.59,5.392,9.323,8.298,11.26,14.53,13.62,17.42,21.56,5.139,7.646,5.986,8.152,10.49,10.36,12.97,15.76,4.341,6.113,6.562,\n",
    "          6.828,6.746,6.767,7.434,7.902,7.881,7.640,7.726,9.394,5.999,7.899,9.789,9.752,11.81,14.00,4.177,5.695,6.217,6.634,6.759,7.092,\n",
    "          7.280,7.361,7.459,8.337,7.576,8.994,5.786,7.344,8.608,9.010,10.45,12.13,3.894,5.212,5.577,5.539,5.473,5.525,5.582,5.644,5.670,\n",
    "          6.150,5.864,5.939,6.022,6.108,6.184,6.254,5.426,6.825,7.550,7.864,7.834,8.438,8.967,8.959,9.226,10.44,6.108,7.417,7.286,8.417,\n",
    "          9.318,10.75,4.073,5.278,5.17,6.307,5.89,6.194,6.266,6.026,5.974,5.992,6.198,6.282,6.42,6.50,6.58,6.65,4.9]\n",
    "    eleip=[]\n",
    "    for i in eleipabs:\n",
    "        eleip.append(-i)\n",
    "    Xtot=[]   \n",
    "    for i in range(len(matname)):\n",
    "        elements=[]\n",
    "        for j in range(len(matname[i])):\n",
    "            if (ord(matname[i][j])>64)&(ord(matname[i][j])<91):\n",
    "                ele=matname[i][j]\n",
    "                if j<(len(matname[i])-1):\n",
    "                    if (ord(matname[i][j+1])>96)&(ord(matname[i][j+1])<123):\n",
    "                        ele=ele+matname[i][j+1]\n",
    "                rep=0\n",
    "                for k in elements:\n",
    "                    if(j==ele):\n",
    "                        rep=1\n",
    "                if(rep==0):\n",
    "                    elements.append(ele)\n",
    "        ea,ip,en,rc=[],[],[],[]\n",
    "        for j in range(len(elements)):\n",
    "            for k in range(len(ele0)):\n",
    "                if(elements[j]==ele0[k]):\n",
    "                    ip.append(eleip[k])\n",
    "                    ea.append(elena[k])\n",
    "                    en.append(elene[k])\n",
    "                    rc.append(rcov[k])\n",
    "        ipmax=max(ip)\n",
    "        eamax=max(ea)\n",
    "        enmax=max(en)\n",
    "        ipmin=min(ip)\n",
    "        eamin=min(ea)\n",
    "        enmin=min(en)\n",
    "        rmax=max(rc)\n",
    "        rmin=min(rc)\n",
    "        datapoint=[eamax,enmax,ipmax,eamin,enmin,ipmin,adata[i],cdata[i],dsq[i],dv[i],rmax,rmin]\n",
    "        Xtot.append(datapoint)\n",
    "\n",
    "    print(len(Xtot),len(Xtot[0]))\n",
    "    for i in range(len(Xtot[0])):\n",
    "        max1=0\n",
    "        min1=0\n",
    "        for j in range(len(Xtot)):\n",
    "            if Xtot[j][i]>max1:\n",
    "                max1=Xtot[j][i]\n",
    "            if Xtot[j][i]<min1:\n",
    "                min1=Xtot[j][i]\n",
    "        ruler=max1-min1\n",
    "        for j in range(len(Xtot)):\n",
    "            Xtot[j][i]=Xtot[j][i]-min1\n",
    "            Xtot[j][i]=Xtot[j][i]/ruler\n",
    "            \n",
    "    labels = [x[0] == \"y\" for x in result]\n",
    "    labels = torch.tensor(labels) * 1\n",
    "    return torch.tensor(Xtot, dtype=torch.float32), labels"
   ]
  },
  {
   "cell_type": "markdown",
   "metadata": {},
   "source": [
    "## Model Specifications\n",
    "\n",
    "Let's be pretty clear about naming our models so that we can tell them apart.\n",
    "\n",
    "My projected GP model assumes that $f(x) \\sim GP(\\mu(Px), k(Px, Px')$"
   ]
  },
  {
   "cell_type": "code",
   "execution_count": 35,
   "metadata": {},
   "outputs": [],
   "source": [
    "#Model1 use DIY kernel above. Model0 use RBFkernel in gpytorch\n",
    "class ProjectedExactGPModel(ExactGP):\n",
    "    def __init__(self, train_x, train_y, likelihood = None, rank=1):\n",
    "        if likelihood is None:\n",
    "            likelihood = GaussianLikelihood()\n",
    "            \n",
    "        super(ProjectedExactGPModel, self).__init__(train_x, train_y, likelihood)\n",
    "        self.mean_module=ConstantMean()\n",
    "        self.covar_module_projection = RBFKernel(\n",
    "            ard_num_dims=rank, \n",
    "            lengthscale_constraint=gpytorch.constraints.Interval(0.01, 3.),\n",
    "        )\n",
    "        self.register_parameter(\n",
    "            \"projection\",torch.nn.Parameter(torch.randn(train_x.shape[-1], rank, requires_grad=True))\n",
    "        )\n",
    "        #self.register_constraint(\n",
    "        #    \"projection\",gpytorch.constraints.Interval(0.01, 10.)\n",
    "       # )\n",
    "        self.covar_module_ard = RBFKernel(\n",
    "            ard_num_dims=train_x.shape[-1],\n",
    "            lengthscale_constraint=gpytorch.constraints.Interval(0.01, 3.)\n",
    "        )\n",
    "        self.likelihood = likelihood\n",
    "\n",
    "    def forward(self, x):\n",
    "        \n",
    "        proj_x = x.matmul(self.projection)\n",
    "        \n",
    "        mean_x=self.mean_module(x)\n",
    "        \n",
    "        # this kernel is exp(-l_1^2 (x - x')P P^T(x - x') - l_2^2 (x - x')D(x - x'))\n",
    "        # because we compute the product elementwise\n",
    "        covar_x=self.covar_module_projection(proj_x) * self.covar_module_ard(x)\n",
    "        \n",
    "        return MultivariateNormal(mean_x, covar_x)\n",
    "\n",
    "class ExactGPModel(ExactGP):\n",
    "    def __init__(self, train_x, train_y, likelihood = None, ard_num_dims=None):\n",
    "        if likelihood is None:\n",
    "            likelihood = GaussianLikelihood()\n",
    "            \n",
    "        super(ExactGPModel, self).__init__(train_x, train_y, likelihood)\n",
    "        self.mean_module=ConstantMean()\n",
    "        self.covar_module = RBFKernel(\n",
    "            ard_num_dims=ard_num_dims, lengthscale_constraint=gpytorch.constraints.Interval(0.01, 3.)\n",
    "        )\n",
    "        self.likelihood = likelihood\n",
    "        \n",
    "    def forward(self, x):\n",
    "        mean_x=self.mean_module(x)\n",
    "        covar_x=self.covar_module(x)\n",
    "        return MultivariateNormal(mean_x, covar_x)"
   ]
  },
  {
   "cell_type": "markdown",
   "metadata": {},
   "source": [
    "First, I load in the input data."
   ]
  },
  {
   "cell_type": "code",
   "execution_count": 5,
   "metadata": {},
   "outputs": [
    {
     "name": "stdout",
     "output_type": "stream",
     "text": [
      "1279 12\n"
     ]
    }
   ],
   "source": [
    "Dptt, true_y = generate_data()"
   ]
  },
  {
   "cell_type": "markdown",
   "metadata": {},
   "source": [
    "## Lengthscale Recovery"
   ]
  },
  {
   "cell_type": "markdown",
   "metadata": {},
   "source": [
    "I'm going to take the true responses and add a little bit of Gaussian noise just to make it somewhat more of a continuous function. In the future, we can use gpytorch.likelihoods.DirichletRegressionLikelihood."
   ]
  },
  {
   "cell_type": "code",
   "execution_count": 6,
   "metadata": {},
   "outputs": [],
   "source": [
    "y_resp = true_y.float() + 0.01 * torch.randn_like(true_y.float())"
   ]
  },
  {
   "cell_type": "markdown",
   "metadata": {},
   "source": [
    "I'm going to use 1000 training points and 249 testing points."
   ]
  },
  {
   "cell_type": "code",
   "execution_count": 7,
   "metadata": {},
   "outputs": [],
   "source": [
    "shuffled_inds = torch.randperm(Dptt.shape[0])\n",
    "trainset = shuffled_inds[:1000]\n",
    "testset = shuffled_inds[1000:]"
   ]
  },
  {
   "cell_type": "code",
   "execution_count": 8,
   "metadata": {},
   "outputs": [],
   "source": [
    "model = ExactGPModel(Dptt[trainset], y_resp[trainset], ard_num_dims=Dptt.shape[-1])"
   ]
  },
  {
   "cell_type": "code",
   "execution_count": 143,
   "metadata": {},
   "outputs": [
    {
     "name": "stdout",
     "output_type": "stream",
     "text": [
      "likelihood.noise_covar.raw_noise\n",
      "mean_module.constant\n",
      "covar_module.raw_lengthscale\n"
     ]
    },
    {
     "data": {
      "text/plain": [
       "[None, None, None]"
      ]
     },
     "execution_count": 143,
     "metadata": {},
     "output_type": "execute_result"
    }
   ],
   "source": [
    "[print(n) for n, p in model.named_parameters()]"
   ]
  },
  {
   "cell_type": "code",
   "execution_count": null,
   "metadata": {},
   "outputs": [
    {
     "ename": "ModuleAttributeError",
     "evalue": "'ProjectedExactGPModel' object has no attribute 'covar_module'",
     "output_type": "error",
     "traceback": [
      "\u001b[1;31m---------------------------------------------------------------------------\u001b[0m",
      "\u001b[1;31mAttributeError\u001b[0m                            Traceback (most recent call last)",
      "\u001b[1;32mE:\\ana\\lib\\site-packages\\gpytorch\\module.py\u001b[0m in \u001b[0;36m__getattr__\u001b[1;34m(self, name)\u001b[0m\n\u001b[0;32m    411\u001b[0m             \u001b[1;32mtry\u001b[0m\u001b[1;33m:\u001b[0m\u001b[1;33m\u001b[0m\u001b[1;33m\u001b[0m\u001b[0m\n\u001b[1;32m--> 412\u001b[1;33m                 \u001b[1;32mreturn\u001b[0m \u001b[0msuper\u001b[0m\u001b[1;33m(\u001b[0m\u001b[1;33m)\u001b[0m\u001b[1;33m.\u001b[0m\u001b[0m__getattribute__\u001b[0m\u001b[1;33m(\u001b[0m\u001b[0mname\u001b[0m\u001b[1;33m)\u001b[0m\u001b[1;33m\u001b[0m\u001b[1;33m\u001b[0m\u001b[0m\n\u001b[0m\u001b[0;32m    413\u001b[0m             \u001b[1;32mexcept\u001b[0m \u001b[0mAttributeError\u001b[0m\u001b[1;33m:\u001b[0m\u001b[1;33m\u001b[0m\u001b[1;33m\u001b[0m\u001b[0m\n",
      "\u001b[1;31mAttributeError\u001b[0m: 'ProjectedExactGPModel' object has no attribute 'covar_module'",
      "\nDuring handling of the above exception, another exception occurred:\n",
      "\u001b[1;31mModuleAttributeError\u001b[0m                      Traceback (most recent call last)",
      "\u001b[1;32m<ipython-input-20-b8a5bf7b9609>\u001b[0m in \u001b[0;36m<module>\u001b[1;34m\u001b[0m\n\u001b[0;32m     11\u001b[0m     \u001b[0moptimizer\u001b[0m\u001b[1;33m.\u001b[0m\u001b[0mzero_grad\u001b[0m\u001b[1;33m(\u001b[0m\u001b[1;33m)\u001b[0m\u001b[1;33m\u001b[0m\u001b[1;33m\u001b[0m\u001b[0m\n\u001b[0;32m     12\u001b[0m     \u001b[1;32mif\u001b[0m \u001b[0mi\u001b[0m \u001b[1;33m%\u001b[0m \u001b[1;36m100\u001b[0m \u001b[1;33m==\u001b[0m \u001b[1;36m0\u001b[0m\u001b[1;33m:\u001b[0m\u001b[1;33m\u001b[0m\u001b[1;33m\u001b[0m\u001b[0m\n\u001b[1;32m---> 13\u001b[1;33m         \u001b[0mprint\u001b[0m\u001b[1;33m(\u001b[0m\u001b[1;34m\"Step: \"\u001b[0m\u001b[1;33m,\u001b[0m \u001b[0mi\u001b[0m\u001b[1;33m,\u001b[0m \u001b[1;34m\"Lengthscales: \"\u001b[0m\u001b[1;33m,\u001b[0m \u001b[0mmodel\u001b[0m\u001b[1;33m.\u001b[0m\u001b[0mcovar_module\u001b[0m\u001b[1;33m.\u001b[0m\u001b[0mlengthscale\u001b[0m\u001b[1;33m.\u001b[0m\u001b[0mdata\u001b[0m\u001b[1;33m,\u001b[0m \u001b[1;34m\"Loss: \"\u001b[0m\u001b[1;33m,\u001b[0m \u001b[0mloss\u001b[0m\u001b[1;33m.\u001b[0m\u001b[0mitem\u001b[0m\u001b[1;33m(\u001b[0m\u001b[1;33m)\u001b[0m\u001b[1;33m)\u001b[0m\u001b[1;33m\u001b[0m\u001b[1;33m\u001b[0m\u001b[0m\n\u001b[0m",
      "\u001b[1;32mE:\\ana\\lib\\site-packages\\gpytorch\\module.py\u001b[0m in \u001b[0;36m__getattr__\u001b[1;34m(self, name)\u001b[0m\n\u001b[0;32m    412\u001b[0m                 \u001b[1;32mreturn\u001b[0m \u001b[0msuper\u001b[0m\u001b[1;33m(\u001b[0m\u001b[1;33m)\u001b[0m\u001b[1;33m.\u001b[0m\u001b[0m__getattribute__\u001b[0m\u001b[1;33m(\u001b[0m\u001b[0mname\u001b[0m\u001b[1;33m)\u001b[0m\u001b[1;33m\u001b[0m\u001b[1;33m\u001b[0m\u001b[0m\n\u001b[0;32m    413\u001b[0m             \u001b[1;32mexcept\u001b[0m \u001b[0mAttributeError\u001b[0m\u001b[1;33m:\u001b[0m\u001b[1;33m\u001b[0m\u001b[1;33m\u001b[0m\u001b[0m\n\u001b[1;32m--> 414\u001b[1;33m                 \u001b[1;32mraise\u001b[0m \u001b[0me\u001b[0m\u001b[1;33m\u001b[0m\u001b[1;33m\u001b[0m\u001b[0m\n\u001b[0m\u001b[0;32m    415\u001b[0m \u001b[1;33m\u001b[0m\u001b[0m\n\u001b[0;32m    416\u001b[0m \u001b[1;33m\u001b[0m\u001b[0m\n",
      "\u001b[1;32mE:\\ana\\lib\\site-packages\\gpytorch\\module.py\u001b[0m in \u001b[0;36m__getattr__\u001b[1;34m(self, name)\u001b[0m\n\u001b[0;32m    407\u001b[0m     \u001b[1;32mdef\u001b[0m \u001b[0m__getattr__\u001b[0m\u001b[1;33m(\u001b[0m\u001b[0mself\u001b[0m\u001b[1;33m,\u001b[0m \u001b[0mname\u001b[0m\u001b[1;33m)\u001b[0m\u001b[1;33m:\u001b[0m\u001b[1;33m\u001b[0m\u001b[1;33m\u001b[0m\u001b[0m\n\u001b[0;32m    408\u001b[0m         \u001b[1;32mtry\u001b[0m\u001b[1;33m:\u001b[0m\u001b[1;33m\u001b[0m\u001b[1;33m\u001b[0m\u001b[0m\n\u001b[1;32m--> 409\u001b[1;33m             \u001b[1;32mreturn\u001b[0m \u001b[0msuper\u001b[0m\u001b[1;33m(\u001b[0m\u001b[1;33m)\u001b[0m\u001b[1;33m.\u001b[0m\u001b[0m__getattr__\u001b[0m\u001b[1;33m(\u001b[0m\u001b[0mname\u001b[0m\u001b[1;33m)\u001b[0m\u001b[1;33m\u001b[0m\u001b[1;33m\u001b[0m\u001b[0m\n\u001b[0m\u001b[0;32m    410\u001b[0m         \u001b[1;32mexcept\u001b[0m \u001b[0mAttributeError\u001b[0m \u001b[1;32mas\u001b[0m \u001b[0me\u001b[0m\u001b[1;33m:\u001b[0m\u001b[1;33m\u001b[0m\u001b[1;33m\u001b[0m\u001b[0m\n\u001b[0;32m    411\u001b[0m             \u001b[1;32mtry\u001b[0m\u001b[1;33m:\u001b[0m\u001b[1;33m\u001b[0m\u001b[1;33m\u001b[0m\u001b[0m\n",
      "\u001b[1;32mE:\\ana\\lib\\site-packages\\torch\\nn\\modules\\module.py\u001b[0m in \u001b[0;36m__getattr__\u001b[1;34m(self, name)\u001b[0m\n\u001b[0;32m    777\u001b[0m                 \u001b[1;32mreturn\u001b[0m \u001b[0mmodules\u001b[0m\u001b[1;33m[\u001b[0m\u001b[0mname\u001b[0m\u001b[1;33m]\u001b[0m\u001b[1;33m\u001b[0m\u001b[1;33m\u001b[0m\u001b[0m\n\u001b[0;32m    778\u001b[0m         raise ModuleAttributeError(\"'{}' object has no attribute '{}'\".format(\n\u001b[1;32m--> 779\u001b[1;33m             type(self).__name__, name))\n\u001b[0m\u001b[0;32m    780\u001b[0m \u001b[1;33m\u001b[0m\u001b[0m\n\u001b[0;32m    781\u001b[0m     \u001b[1;32mdef\u001b[0m \u001b[0m__setattr__\u001b[0m\u001b[1;33m(\u001b[0m\u001b[0mself\u001b[0m\u001b[1;33m,\u001b[0m \u001b[0mname\u001b[0m\u001b[1;33m:\u001b[0m \u001b[0mstr\u001b[0m\u001b[1;33m,\u001b[0m \u001b[0mvalue\u001b[0m\u001b[1;33m:\u001b[0m \u001b[0mUnion\u001b[0m\u001b[1;33m[\u001b[0m\u001b[0mTensor\u001b[0m\u001b[1;33m,\u001b[0m \u001b[1;34m'Module'\u001b[0m\u001b[1;33m]\u001b[0m\u001b[1;33m)\u001b[0m \u001b[1;33m->\u001b[0m \u001b[1;32mNone\u001b[0m\u001b[1;33m:\u001b[0m\u001b[1;33m\u001b[0m\u001b[1;33m\u001b[0m\u001b[0m\n",
      "\u001b[1;31mModuleAttributeError\u001b[0m: 'ProjectedExactGPModel' object has no attribute 'covar_module'"
     ]
    },
    {
     "name": "stdout",
     "output_type": "stream",
     "text": [
      "> \u001b[1;32me:\\ana\\lib\\site-packages\\torch\\nn\\modules\\module.py\u001b[0m(779)\u001b[0;36m__getattr__\u001b[1;34m()\u001b[0m\n",
      "\u001b[1;32m    777 \u001b[1;33m                \u001b[1;32mreturn\u001b[0m \u001b[0mmodules\u001b[0m\u001b[1;33m[\u001b[0m\u001b[0mname\u001b[0m\u001b[1;33m]\u001b[0m\u001b[1;33m\u001b[0m\u001b[1;33m\u001b[0m\u001b[0m\n",
      "\u001b[0m\u001b[1;32m    778 \u001b[1;33m        raise ModuleAttributeError(\"'{}' object has no attribute '{}'\".format(\n",
      "\u001b[0m\u001b[1;32m--> 779 \u001b[1;33m            type(self).__name__, name))\n",
      "\u001b[0m\u001b[1;32m    780 \u001b[1;33m\u001b[1;33m\u001b[0m\u001b[0m\n",
      "\u001b[0m\u001b[1;32m    781 \u001b[1;33m    \u001b[1;32mdef\u001b[0m \u001b[0m__setattr__\u001b[0m\u001b[1;33m(\u001b[0m\u001b[0mself\u001b[0m\u001b[1;33m,\u001b[0m \u001b[0mname\u001b[0m\u001b[1;33m:\u001b[0m \u001b[0mstr\u001b[0m\u001b[1;33m,\u001b[0m \u001b[0mvalue\u001b[0m\u001b[1;33m:\u001b[0m \u001b[0mUnion\u001b[0m\u001b[1;33m[\u001b[0m\u001b[0mTensor\u001b[0m\u001b[1;33m,\u001b[0m \u001b[1;34m'Module'\u001b[0m\u001b[1;33m]\u001b[0m\u001b[1;33m)\u001b[0m \u001b[1;33m->\u001b[0m \u001b[1;32mNone\u001b[0m\u001b[1;33m:\u001b[0m\u001b[1;33m\u001b[0m\u001b[1;33m\u001b[0m\u001b[0m\n",
      "\u001b[0m\n"
     ]
    }
   ],
   "source": [
    "model.train()\n",
    "model.likelihood.train()\n",
    "\n",
    "optimizer = torch.optim.Adam(model.parameters(), lr = 0.05)\n",
    "mll = ExactMarginalLogLikelihood(model.likelihood, model)\n",
    "\n",
    "for i in range(600):\n",
    "    loss = -mll(model(Dptt[trainset]), y_resp[trainset])\n",
    "    loss.backward()\n",
    "    optimizer.step()\n",
    "    optimizer.zero_grad()\n",
    "    if i % 100 == 0:\n",
    "        print(\"Step: \", i, \"Lengthscales: \", model.covar_module.lengthscale.data, \"Loss: \", loss.item())"
   ]
  },
  {
   "cell_type": "code",
   "execution_count": 145,
   "metadata": {},
   "outputs": [],
   "source": [
    "model.eval()\n",
    "model.likelihood.eval()\n",
    "\n",
    "with torch.no_grad():\n",
    "    pred = model.likelihood(model(Dptt[testset]))"
   ]
  },
  {
   "cell_type": "code",
   "execution_count": 146,
   "metadata": {},
   "outputs": [],
   "source": [
    "import matplotlib.pyplot as plt"
   ]
  },
  {
   "cell_type": "code",
   "execution_count": 147,
   "metadata": {},
   "outputs": [],
   "source": [
    "testset_accuracy = ((pred.mean > 0.5) == (y_resp[testset] > 0.5)).float().mean()"
   ]
  },
  {
   "cell_type": "code",
   "execution_count": 148,
   "metadata": {},
   "outputs": [
    {
     "data": {
      "text/plain": [
       "Text(0, 0.5, 'Predicted')"
      ]
     },
     "execution_count": 148,
     "metadata": {},
     "output_type": "execute_result"
    },
    {
     "data": {
      "image/png": "[encoded data removed]",
      "text/plain": [
       "<Figure size 432x288 with 1 Axes>"
      ]
     },
     "metadata": {
      "needs_background": "light"
     },
     "output_type": "display_data"
    }
   ],
   "source": [
    "plt.title(\"Accuracy: \" + str(testset_accuracy.item()), fontsize = 20)\n",
    "plt.errorbar(y_resp[testset], pred.mean, yerr = 2. * pred.variance ** 0.5, ls='none', alpha = 0.1, marker = \"x\")\n",
    "plt.xlabel(\"Truth\", fontsize = 20)\n",
    "plt.ylabel(\"Predicted\", fontsize = 20)"
   ]
  },
  {
   "cell_type": "markdown",
   "metadata": {},
   "source": [
    "Accuracy is 91.4% which seems reasonable."
   ]
  },
  {
   "cell_type": "markdown",
   "metadata": {},
   "source": [
    "## Projected GP Model"
   ]
  },
  {
   "cell_type": "markdown",
   "metadata": {},
   "source": [
    "Next, I'm going to fit the projected GP model which should give use a relationship between the parameters as well."
   ]
  },
  {
   "cell_type": "code",
   "execution_count": 36,
   "metadata": {},
   "outputs": [
    {
     "ename": "RuntimeError",
     "evalue": "ExactGP can only handle Gaussian likelihoods",
     "output_type": "error",
     "traceback": [
      "\u001b[1;31m---------------------------------------------------------------------------\u001b[0m",
      "\u001b[1;31mRuntimeError\u001b[0m                              Traceback (most recent call last)",
      "\u001b[1;32m<ipython-input-36-24b97b6c90f6>\u001b[0m in \u001b[0;36m<module>\u001b[1;34m\u001b[0m\n\u001b[1;32m----> 1\u001b[1;33m \u001b[0mmodel\u001b[0m \u001b[1;33m=\u001b[0m \u001b[0mProjectedExactGPModel\u001b[0m\u001b[1;33m(\u001b[0m\u001b[0mDptt\u001b[0m\u001b[1;33m[\u001b[0m\u001b[0mtrainset\u001b[0m\u001b[1;33m]\u001b[0m\u001b[1;33m,\u001b[0m \u001b[0my_resp\u001b[0m\u001b[1;33m[\u001b[0m\u001b[0mtrainset\u001b[0m\u001b[1;33m]\u001b[0m\u001b[1;33m,\u001b[0m \u001b[0mrank\u001b[0m\u001b[1;33m=\u001b[0m\u001b[1;36m1\u001b[0m\u001b[1;33m,\u001b[0m \u001b[0mlikelihood\u001b[0m\u001b[1;33m=\u001b[0m\u001b[0mDirichletClassificationLikelihood\u001b[0m\u001b[1;33m)\u001b[0m\u001b[1;33m\u001b[0m\u001b[1;33m\u001b[0m\u001b[0m\n\u001b[0m\u001b[0;32m      2\u001b[0m \u001b[1;31m# model.likelihood.noise = 0.01\u001b[0m\u001b[1;33m\u001b[0m\u001b[1;33m\u001b[0m\u001b[1;33m\u001b[0m\u001b[0m\n\u001b[0;32m      3\u001b[0m \u001b[1;31m# model.covar_module.lengthscale = 3. * torch.ones_like(model.covar_module.lengthscale)\u001b[0m\u001b[1;33m\u001b[0m\u001b[1;33m\u001b[0m\u001b[1;33m\u001b[0m\u001b[0m\n\u001b[0;32m      4\u001b[0m \u001b[1;33m\u001b[0m\u001b[0m\n\u001b[0;32m      5\u001b[0m \u001b[1;33m[\u001b[0m\u001b[0mprint\u001b[0m\u001b[1;33m(\u001b[0m\u001b[0mn\u001b[0m\u001b[1;33m)\u001b[0m \u001b[1;32mfor\u001b[0m \u001b[0mn\u001b[0m\u001b[1;33m,\u001b[0m \u001b[0mp\u001b[0m \u001b[1;32min\u001b[0m \u001b[0mmodel\u001b[0m\u001b[1;33m.\u001b[0m\u001b[0mnamed_parameters\u001b[0m\u001b[1;33m(\u001b[0m\u001b[1;33m)\u001b[0m\u001b[1;33m]\u001b[0m\u001b[1;33m\u001b[0m\u001b[1;33m\u001b[0m\u001b[0m\n",
      "\u001b[1;32m<ipython-input-35-245ff62aed40>\u001b[0m in \u001b[0;36m__init__\u001b[1;34m(self, train_x, train_y, likelihood, rank)\u001b[0m\n\u001b[0;32m      5\u001b[0m             \u001b[0mlikelihood\u001b[0m \u001b[1;33m=\u001b[0m \u001b[0mGaussianLikelihood\u001b[0m\u001b[1;33m(\u001b[0m\u001b[1;33m)\u001b[0m\u001b[1;33m\u001b[0m\u001b[1;33m\u001b[0m\u001b[0m\n\u001b[0;32m      6\u001b[0m \u001b[1;33m\u001b[0m\u001b[0m\n\u001b[1;32m----> 7\u001b[1;33m         \u001b[0msuper\u001b[0m\u001b[1;33m(\u001b[0m\u001b[0mProjectedExactGPModel\u001b[0m\u001b[1;33m,\u001b[0m \u001b[0mself\u001b[0m\u001b[1;33m)\u001b[0m\u001b[1;33m.\u001b[0m\u001b[0m__init__\u001b[0m\u001b[1;33m(\u001b[0m\u001b[0mtrain_x\u001b[0m\u001b[1;33m,\u001b[0m \u001b[0mtrain_y\u001b[0m\u001b[1;33m,\u001b[0m \u001b[0mlikelihood\u001b[0m\u001b[1;33m)\u001b[0m\u001b[1;33m\u001b[0m\u001b[1;33m\u001b[0m\u001b[0m\n\u001b[0m\u001b[0;32m      8\u001b[0m         \u001b[0mself\u001b[0m\u001b[1;33m.\u001b[0m\u001b[0mmean_module\u001b[0m\u001b[1;33m=\u001b[0m\u001b[0mConstantMean\u001b[0m\u001b[1;33m(\u001b[0m\u001b[1;33m)\u001b[0m\u001b[1;33m\u001b[0m\u001b[1;33m\u001b[0m\u001b[0m\n\u001b[0;32m      9\u001b[0m         self.covar_module_projection = RBFKernel(\n",
      "\u001b[1;32mE:\\ana\\lib\\site-packages\\gpytorch\\models\\exact_gp.py\u001b[0m in \u001b[0;36m__init__\u001b[1;34m(self, train_inputs, train_targets, likelihood)\u001b[0m\n\u001b[0;32m     59\u001b[0m             \u001b[1;32mraise\u001b[0m \u001b[0mRuntimeError\u001b[0m\u001b[1;33m(\u001b[0m\u001b[1;34m\"Train inputs must be a tensor, or a list/tuple of tensors\"\u001b[0m\u001b[1;33m)\u001b[0m\u001b[1;33m\u001b[0m\u001b[1;33m\u001b[0m\u001b[0m\n\u001b[0;32m     60\u001b[0m         \u001b[1;32mif\u001b[0m \u001b[1;32mnot\u001b[0m \u001b[0misinstance\u001b[0m\u001b[1;33m(\u001b[0m\u001b[0mlikelihood\u001b[0m\u001b[1;33m,\u001b[0m \u001b[0m_GaussianLikelihoodBase\u001b[0m\u001b[1;33m)\u001b[0m\u001b[1;33m:\u001b[0m\u001b[1;33m\u001b[0m\u001b[1;33m\u001b[0m\u001b[0m\n\u001b[1;32m---> 61\u001b[1;33m             \u001b[1;32mraise\u001b[0m \u001b[0mRuntimeError\u001b[0m\u001b[1;33m(\u001b[0m\u001b[1;34m\"ExactGP can only handle Gaussian likelihoods\"\u001b[0m\u001b[1;33m)\u001b[0m\u001b[1;33m\u001b[0m\u001b[1;33m\u001b[0m\u001b[0m\n\u001b[0m\u001b[0;32m     62\u001b[0m \u001b[1;33m\u001b[0m\u001b[0m\n\u001b[0;32m     63\u001b[0m         \u001b[0msuper\u001b[0m\u001b[1;33m(\u001b[0m\u001b[0mExactGP\u001b[0m\u001b[1;33m,\u001b[0m \u001b[0mself\u001b[0m\u001b[1;33m)\u001b[0m\u001b[1;33m.\u001b[0m\u001b[0m__init__\u001b[0m\u001b[1;33m(\u001b[0m\u001b[1;33m)\u001b[0m\u001b[1;33m\u001b[0m\u001b[1;33m\u001b[0m\u001b[0m\n",
      "\u001b[1;31mRuntimeError\u001b[0m: ExactGP can only handle Gaussian likelihoods"
     ]
    }
   ],
   "source": [
    "model = ProjectedExactGPModel(Dptt[trainset], y_resp[trainset], rank=1, likelihood=DirichletClassificationLikelihood)\n",
    "# model.likelihood.noise = 0.01\n",
    "# model.covar_module.lengthscale = 3. * torch.ones_like(model.covar_module.lengthscale)\n",
    "\n",
    "[print(n) for n, p in model.named_parameters()]\n",
    "\n",
    "model.train()\n",
    "model.likelihood.train()\n",
    "\n",
    "optimizer = torch.optim.Adam(model.parameters(), lr = 0.05)\n",
    "mll = ExactMarginalLogLikelihood(model.likelihood, model)\n",
    "\n",
    "for i in range(500):\n",
    "    loss = -mll(model(Dptt[trainset]), y_resp[trainset])\n",
    "    loss.backward()\n",
    "    optimizer.step()\n",
    "    optimizer.zero_grad()\n",
    "    if (i+1) % 100 == 0:\n",
    "        print(\"Step: \", i, \"Lengthscales: \", model.covar_module_ard.lengthscale.data, \"Loss: \", loss.item())\n",
    "\n"
   ]
  },
  {
   "cell_type": "code",
   "execution_count": 19,
   "metadata": {},
   "outputs": [
    {
     "data": {
      "text/plain": [
       "Text(0, 0.5, 'Predicted')"
      ]
     },
     "execution_count": 19,
     "metadata": {},
     "output_type": "execute_result"
    },
    {
     "data": {
      "image/png": "[encoded data removed]",
      "text/plain": [
       "<Figure size 432x288 with 1 Axes>"
      ]
     },
     "metadata": {
      "needs_background": "light"
     },
     "output_type": "display_data"
    }
   ],
   "source": [
    "model.eval()\n",
    "model.likelihood.eval()\n",
    "\n",
    "with torch.no_grad():\n",
    "    pred = model.likelihood(model(Dptt[testset]))\n",
    "\n",
    "import matplotlib.pyplot as plt\n",
    "\n",
    "testset_accuracy = ((pred.mean > 0.5) == (y_resp[testset] > 0.5)).float().mean()\n",
    "\n",
    "plt.title(\"Accuracy: \" + str(testset_accuracy.item()), fontsize = 20)\n",
    "plt.errorbar(y_resp[testset], pred.mean, yerr = 2. * pred.variance ** 0.5, ls='none', alpha = 0.1, marker = \"x\")\n",
    "plt.xlabel(\"Truth\", fontsize = 20)\n",
    "plt.ylabel(\"Predicted\", fontsize = 20)"
   ]
  },
  {
   "cell_type": "markdown",
   "metadata": {},
   "source": [
    "Accuracy is similar at about 91.8%.\n",
    "\n",
    "Finally, I'm going to plot the estimated covariance matrix and the estimated correlation matrix between the features."
   ]
  },
  {
   "cell_type": "code",
   "execution_count": 20,
   "metadata": {},
   "outputs": [],
   "source": [
    "estimated_covar = model.projection / model.covar_module_projection.lengthscale @ model.projection.t() + \\\n",
    "    torch.diag(model.covar_module_ard.lengthscale.reciprocal())"
   ]
  },
  {
   "cell_type": "code",
   "execution_count": 21,
   "metadata": {},
   "outputs": [
    {
     "data": {
      "text/plain": [
       "torch.return_types.symeig(\n",
       "eigenvalues=tensor([-1.8737e-05, -6.6574e-06, -1.5992e-06, -1.3336e-07,  1.2741e-07,\n",
       "         2.3788e-07,  9.1725e-07,  1.9072e-06,  2.1365e-05,  3.5222e-05,\n",
       "         6.4427e+00,  6.0741e+02], grad_fn=<SymeigBackward>),\n",
       "eigenvectors=tensor([], grad_fn=<SymeigBackward>))"
      ]
     },
     "execution_count": 21,
     "metadata": {},
     "output_type": "execute_result"
    }
   ],
   "source": [
    "estimated_covar.symeig()"
   ]
  },
  {
   "cell_type": "code",
   "execution_count": 22,
   "metadata": {},
   "outputs": [
    {
     "data": {
      "text/plain": [
       "<matplotlib.colorbar.Colorbar at 0x220dcf195c8>"
      ]
     },
     "execution_count": 22,
     "metadata": {},
     "output_type": "execute_result"
    },
    {
     "data": {
      "image/png": "[encoded data removed]",
      "text/plain": [
       "<Figure size 432x288 with 2 Axes>"
      ]
     },
     "metadata": {
      "needs_background": "light"
     },
     "output_type": "display_data"
    }
   ],
   "source": [
    "f = plt.imshow(estimated_covar.data)\n",
    "plt.colorbar(f)"
   ]
  },
  {
   "cell_type": "code",
   "execution_count": 23,
   "metadata": {},
   "outputs": [],
   "source": [
    "covar_inv_diags = estimated_covar.diag() ** 0.5\n",
    "estimated_corr = estimated_covar / torch.outer(covar_inv_diags, covar_inv_diags)"
   ]
  },
  {
   "cell_type": "code",
   "execution_count": 24,
   "metadata": {},
   "outputs": [
    {
     "data": {
      "text/plain": [
       "<matplotlib.colorbar.Colorbar at 0x220df07aa08>"
      ]
     },
     "execution_count": 24,
     "metadata": {},
     "output_type": "execute_result"
    },
    {
     "data": {
      "image/png": "[encoded data removed]",
      "text/plain": [
       "<Figure size 432x288 with 2 Axes>"
      ]
     },
     "metadata": {
      "needs_background": "light"
     },
     "output_type": "display_data"
    }
   ],
   "source": [
    "f = plt.imshow(estimated_corr.data)\n",
    "plt.colorbar(f)"
   ]
  },
  {
   "cell_type": "markdown",
   "metadata": {},
   "source": [
    "This is strongly suggestive of two distinct clusters (features 0, 1, 7, 8, 9) and (features 2, 4, 5, 6, 11, 12) with feature 3 being slightly different from the others."
   ]
  },
  {
   "cell_type": "code",
   "execution_count": 28,
   "metadata": {},
   "outputs": [
    {
     "name": "stdout",
     "output_type": "stream",
     "text": [
      "[[ 1.          0.9914698  -0.87486047  0.661222   -0.90281963 -0.95520294\n",
      "  -0.8633663   0.983749   -0.8933953   0.9874098  -0.7066579  -0.90074706]\n",
      " [ 0.9914698   1.0000001  -0.9305296   0.5578043  -0.95116574 -0.98562825\n",
      "  -0.9217667   0.9987592  -0.9443311   0.99960417 -0.79285043 -0.9496746 ]\n",
      " [-0.87486047 -0.9305296   1.         -0.21510366  0.99813193  0.9790208\n",
      "   0.9997298  -0.9476124   0.9992122  -0.9404656   0.9609492   0.99841344]\n",
      " [ 0.661222    0.5578043  -0.21510361  1.         -0.2743679  -0.4095815\n",
      "  -0.19234775  0.5157803  -0.25369367  0.53422993  0.06354332 -0.2697533 ]\n",
      " [-0.9028195  -0.95116574  0.99813193 -0.2743679   1.0000001   0.9896408\n",
      "   0.99644214 -0.96535766  0.9997703  -0.95947474  0.9422473   0.99998856]\n",
      " [-0.955203   -0.9856283   0.9790208  -0.40958154  0.9896409   1.\n",
      "   0.9740205  -0.992818    0.98633635 -0.9899913   0.88440377  0.9889411 ]\n",
      " [-0.86336637 -0.9217667   0.9997299  -0.19234778  0.99644226  0.9740205\n",
      "   0.99999994 -0.9399324   0.9980197  -0.9323119   0.9671211   0.99683493]\n",
      " [ 0.983749    0.9987592  -0.9476124   0.5157803  -0.96535766 -0.992818\n",
      "  -0.9399324   1.0000001  -0.9595432   0.99976504 -0.82221526 -0.9640953 ]\n",
      " [-0.8933953  -0.9443311   0.9992122  -0.25369367  0.9997703   0.9863363\n",
      "   0.99801964 -0.95954317  1.         -0.95321435  0.9492093   0.9998616 ]\n",
      " [ 0.9874098   0.99960405 -0.9404656   0.53422993 -0.95947474 -0.98999125\n",
      "  -0.9323119   0.99976504 -0.95321435  0.99999994 -0.80968404 -0.9581123 ]\n",
      " [-0.7066579  -0.79285043  0.9609492   0.06354332  0.9422473   0.88440377\n",
      "   0.9671211  -0.82221526  0.9492093  -0.80968404  1.0000001   0.9438425 ]\n",
      " [-0.90074706 -0.9496746   0.99841344 -0.26975337  0.99998856  0.98894095\n",
      "   0.99683493 -0.9640953   0.9998616  -0.9581123   0.9438425   1.0000001 ]]\n",
      "[[ 0.00000000e+00  4.26509976e-01  6.25697660e+00  1.69389000e+01\n",
      "   4.85901833e+00  2.23985314e+00  6.83168459e+00  8.12551379e-01\n",
      "   5.33023453e+00  6.29511476e-01  1.46671057e+01  4.96264696e+00]\n",
      " [ 4.26509976e-01 -5.96046448e-06  3.47352028e+00  2.21097851e+01\n",
      "   2.44171333e+00  7.18587637e-01  3.91166496e+00  6.20394945e-02\n",
      "   2.78344440e+00  1.97917223e-02  1.03574781e+01  2.51626968e+00]\n",
      " [ 6.25697660e+00  3.47352028e+00  0.00000000e+00  3.92448196e+01\n",
      "   9.34034586e-02  1.04896128e+00  1.35093927e-02  2.61937976e+00\n",
      "   3.93897295e-02  2.97671843e+00  1.95254087e+00  7.93278217e-02]\n",
      " [ 1.69389000e+01  2.21097851e+01  3.92448196e+01  0.00000000e+00\n",
      "   3.62816048e+01  2.95209236e+01  4.03826103e+01  2.42109833e+01\n",
      "   3.73153152e+01  2.32885036e+01  4.68228340e+01  3.65123329e+01]\n",
      " [ 4.85902405e+00  2.44171333e+00  9.34034586e-02  3.62816048e+01\n",
      "  -5.96046448e-06  5.17961383e-01  1.77893043e-01  1.73211694e+00\n",
      "   1.14858150e-02  2.02626276e+00  2.88763642e+00  5.72204590e-04]\n",
      " [ 2.23985004e+00  7.18584657e-01  1.04896128e+00  2.95209236e+01\n",
      "   5.17955422e-01  0.00000000e+00  1.29897594e+00  3.59100103e-01\n",
      "   6.83182478e-01  5.00434637e-01  5.77981186e+00  5.52946329e-01]\n",
      " [ 6.83168173e+00  3.91166496e+00  1.35064125e-02  4.03826103e+01\n",
      "   1.77887082e-01  1.29897594e+00  2.98023224e-06  3.00337982e+00\n",
      "   9.90152359e-02  3.38440537e+00  1.64394379e+00  1.58253312e-01]\n",
      " [ 8.12551379e-01  6.20394945e-02  2.61937976e+00  2.42109833e+01\n",
      "   1.73211694e+00  3.59100103e-01  3.00337982e+00 -5.96046448e-06\n",
      "   2.02283859e+00  1.17480755e-02  8.88923740e+00  1.79523528e+00]\n",
      " [ 5.33023453e+00  2.78344440e+00  3.93897295e-02  3.73153152e+01\n",
      "   1.14858150e-02  6.83185458e-01  9.90182161e-02  2.02284145e+00\n",
      "   0.00000000e+00  2.33928251e+00  2.53953648e+00  6.92009926e-03]\n",
      " [ 6.29511476e-01  1.97976828e-02  2.97671843e+00  2.32885036e+01\n",
      "   2.02626276e+00  5.00437617e-01  3.38440537e+00  1.17480755e-02\n",
      "   2.33928251e+00  2.98023224e-06  9.51579857e+00  2.09438515e+00]\n",
      " [ 1.46671057e+01  1.03574781e+01  1.95254087e+00  4.68228340e+01\n",
      "   2.88763642e+00  5.77981186e+00  1.64394379e+00  8.88923740e+00\n",
      "   2.53953648e+00  9.51579857e+00 -5.96046448e-06  2.80787659e+00]\n",
      " [ 4.96264696e+00  2.51626968e+00  7.93278217e-02  3.65123329e+01\n",
      "   5.72204590e-04  5.52952290e-01  1.58253312e-01  1.79523528e+00\n",
      "   6.92009926e-03  2.09438515e+00  2.80787659e+00 -5.96046448e-06]]\n"
     ]
    }
   ],
   "source": [
    "print(estimated_corr.data.numpy())\n",
    "ttt=1-torch.abs(estimated_corr.data)\n",
    "ttt=ttt.numpy()*50.0\n",
    "print(ttt)\n",
    "for i in range(len(ttt[0])):\n",
    "    ttt[i][i]=0.0\n",
    "    for j in range(i+1, len(ttt[0])):\n",
    "        ttt[j][i]=ttt[i][j]\n",
    "from scipy.spatial.distance import squareform\n",
    "\n",
    "condensed_dist = squareform(ttt)\n",
    "cc=[]\n",
    "for i in range(len(ttt[0])):\n",
    "    for j in range(i+1,len(ttt[0])):\n",
    "        cc.append((ttt[i][j]))"
   ]
  },
  {
   "cell_type": "code",
   "execution_count": 31,
   "metadata": {},
   "outputs": [
    {
     "name": "stdout",
     "output_type": "stream",
     "text": [
      "<class 'numpy.ndarray'>\n",
      "3 clusters\n",
      "cluster 1 is [0 1 5 7 9]\n",
      "cluster 2 is [ 2  4  6  8 10 11]\n",
      "cluster 3 is [3]\n"
     ]
    }
   ],
   "source": [
    "import numpy as np\n",
    "from scipy.cluster.hierarchy import dendrogram, linkage, fcluster\n",
    "from matplotlib import pyplot as plt\n",
    "\n",
    "def hierarchy_cluster(data, method='average', threshold=4.0):\n",
    "    '''层次聚类\n",
    "    \n",
    "    Arguments:\n",
    "        data [[0, float, ...], [float, 0, ...]] -- 文档 i 和文档 j 的距离\n",
    "    \n",
    "    Keyword Arguments:\n",
    "        method {str} -- [linkage的方式： single、complete、average、centroid、median、ward] (default: {'average'})\n",
    "        threshold {float} -- 聚类簇之间的距离\n",
    "    Return:\n",
    "        cluster_number int -- 聚类个数\n",
    "        cluster [[idx1, idx2,..], [idx3]] -- 每一类下的索引\n",
    "    '''\n",
    "    data = np.array(data)\n",
    " \n",
    "    Z = linkage(data, method=method)\n",
    "    cluster_assignments = fcluster(Z, threshold, criterion='distance')\n",
    "    print(type(cluster_assignments))\n",
    "    num_clusters = cluster_assignments.max()\n",
    "    indices = get_cluster_indices(cluster_assignments)\n",
    " \n",
    "    return num_clusters, indices\n",
    " \n",
    " \n",
    " \n",
    "def get_cluster_indices(cluster_assignments):\n",
    "    '''映射每一类至原数据索引\n",
    "    \n",
    "    Arguments:\n",
    "        cluster_assignments 层次聚类后的结果\n",
    "    \n",
    "    Returns:\n",
    "        [[idx1, idx2,..], [idx3]] -- 每一类下的索引\n",
    "    '''\n",
    "    n = cluster_assignments.max()\n",
    "    indices = []\n",
    "    for cluster_number in range(1, n + 1):\n",
    "        indices.append(np.where(cluster_assignments == cluster_number)[0])\n",
    "    \n",
    "    return indices\n",
    "\n",
    "num_clusters, indices = hierarchy_cluster(condensed_dist)\n",
    " \n",
    " \n",
    "print(\"%d clusters\" % num_clusters)\n",
    "for k, ind in enumerate(indices):\n",
    "    print (\"cluster\", k + 1, \"is\", ind)\n",
    "\n"
   ]
  },
  {
   "cell_type": "code",
   "execution_count": null,
   "metadata": {},
   "outputs": [],
   "source": []
  }
 ],
 "metadata": {
  "anaconda-cloud": {},
  "kernelspec": {
   "display_name": "Python 3",
   "language": "python",
   "name": "python3"
  },
  "language_info": {
   "codemirror_mode": {
    "name": "ipython",
    "version": 3
   },
   "file_extension": ".py",
   "mimetype": "text/x-python",
   "name": "python",
   "nbconvert_exporter": "python",
   "pygments_lexer": "ipython3",
   "version": "3.7.6"
  }
 },
 "nbformat": 4,
 "nbformat_minor": 1
}
